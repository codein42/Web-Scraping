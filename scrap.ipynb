{
 "cells": [
  {
   "cell_type": "code",
   "execution_count": 1,
   "metadata": {},
   "outputs": [],
   "source": [
    "import bs4"
   ]
  },
  {
   "cell_type": "code",
   "execution_count": 3,
   "metadata": {},
   "outputs": [],
   "source": [
    "with open(\"quote.html\") as f:\n",
    "    text = f.read()"
   ]
  },
  {
   "cell_type": "code",
   "execution_count": null,
   "metadata": {},
   "outputs": [],
   "source": []
  },
  {
   "cell_type": "code",
   "execution_count": 4,
   "metadata": {},
   "outputs": [],
   "source": [
    "soup = bs4.BeautifulSoup(text)"
   ]
  },
  {
   "cell_type": "code",
   "execution_count": 5,
   "metadata": {},
   "outputs": [
    {
     "data": {
      "text/plain": [
       "bs4.BeautifulSoup"
      ]
     },
     "execution_count": 5,
     "metadata": {},
     "output_type": "execute_result"
    }
   ],
   "source": [
    "type(soup)"
   ]
  },
  {
   "cell_type": "code",
   "execution_count": 12,
   "metadata": {},
   "outputs": [
    {
     "data": {
      "text/plain": [
       "<title>Popular Quotes</title>"
      ]
     },
     "execution_count": 12,
     "metadata": {},
     "output_type": "execute_result"
    }
   ],
   "source": [
    "soup.title"
   ]
  },
  {
   "cell_type": "code",
   "execution_count": 13,
   "metadata": {},
   "outputs": [
    {
     "data": {
      "text/plain": [
       "<h2 class=\"brownBackground\">Browse By Tag</h2>"
      ]
     },
     "execution_count": 13,
     "metadata": {},
     "output_type": "execute_result"
    }
   ],
   "source": [
    "soup.h2"
   ]
  },
  {
   "cell_type": "code",
   "execution_count": 19,
   "metadata": {},
   "outputs": [],
   "source": [
    "links = soup.find_all(\"a\")"
   ]
  },
  {
   "cell_type": "code",
   "execution_count": 29,
   "metadata": {},
   "outputs": [
    {
     "data": {
      "text/plain": [
       "True"
      ]
     },
     "execution_count": 29,
     "metadata": {},
     "output_type": "execute_result"
    }
   ],
   "source": [
    "links[0].has_attr(\"href\")"
   ]
  },
  {
   "cell_type": "code",
   "execution_count": 30,
   "metadata": {},
   "outputs": [
    {
     "data": {
      "text/plain": [
       "'/'"
      ]
     },
     "execution_count": 30,
     "metadata": {},
     "output_type": "execute_result"
    }
   ],
   "source": [
    "links[0][\"href\"]"
   ]
  },
  {
   "cell_type": "code",
   "execution_count": 32,
   "metadata": {},
   "outputs": [
    {
     "name": "stdout",
     "output_type": "stream",
     "text": [
      "https://www.goodreads.com/audible\n",
      "https://www.goodreads.com/audible\n",
      "https://images.gr-assets.com/quotes/1511992603p8/8630.jpg\n",
      "https://images.gr-assets.com/quotes/1387503187p8/10554.jpg\n",
      "https://images.gr-assets.com/quotes/1387506524p8/2534.jpg\n",
      "https://images.gr-assets.com/quotes/1512016299p8/12379.jpg\n",
      "https://help.goodreads.com\n",
      "https://www.facebook.com/Goodreads/\n",
      "https://twitter.com/goodreads\n",
      "https://www.instagram.com/goodreads/\n",
      "https://www.linkedin.com/company/goodreads-com/\n",
      "https://itunes.apple.com/app/apple-store/id355833469?pt=325668&ct=mw_footer&mt=8\n",
      "https://play.google.com/store/apps/details?id=com.goodreads&utm_source=mw_footer&pcampaignid=MKT-Other-global-all-co-prtnr-py-PartBadge-Mar2515-1\n"
     ]
    }
   ],
   "source": [
    "for link in links:\n",
    "    if link.has_attr(\"href\"):\n",
    "        if link[\"href\"].startswith(\"http\"):\n",
    "            print(link[\"href\"])\n",
    "    "
   ]
  },
  {
   "cell_type": "code",
   "execution_count": null,
   "metadata": {},
   "outputs": [],
   "source": [
    "\"happy\".startswith"
   ]
  },
  {
   "cell_type": "code",
   "execution_count": 34,
   "metadata": {},
   "outputs": [],
   "source": [
    "quotes = soup.find_all(\"div\", {\"class\": \"quote\"})"
   ]
  },
  {
   "cell_type": "code",
   "execution_count": 36,
   "metadata": {},
   "outputs": [],
   "source": [
    "quote = quotes[0]"
   ]
  },
  {
   "cell_type": "code",
   "execution_count": 63,
   "metadata": {},
   "outputs": [
    {
     "data": {
      "text/plain": [
       "<div class=\"quote\">\n",
       "<div class=\"quoteDetails\">\n",
       "<a class=\"leftAlignedImage\" href=\"/author/show/61105.Dr_Seuss\">\n",
       "<img alt=\"Dr. Seuss\" src=\"https://images.gr-assets.com/authors/1193930952p2/61105.jpg\"/>\n",
       "</a>\n",
       "<div class=\"quoteText\">\n",
       "      “Don't cry because it's over, smile because it happened.”\n",
       "  <br/>  ―\n",
       "  <span class=\"authorOrTitle\">\n",
       "    Dr. Seuss\n",
       "  </span>\n",
       "</div>\n",
       "<div class=\"quoteFooter\">\n",
       "<div class=\"greyText smallText left\">\n",
       "     tags:\n",
       "       <a href=\"/quotes/tag/attributed-no-source\">attributed-no-source</a>,\n",
       "       <a href=\"/quotes/tag/cry\">cry</a>,\n",
       "       <a href=\"/quotes/tag/crying\">crying</a>,\n",
       "       <a href=\"/quotes/tag/experience\">experience</a>,\n",
       "       <a href=\"/quotes/tag/happiness\">happiness</a>,\n",
       "       <a href=\"/quotes/tag/joy\">joy</a>,\n",
       "       <a href=\"/quotes/tag/life\">life</a>,\n",
       "       <a href=\"/quotes/tag/misattributed-dr-seuss\">misattributed-dr-seuss</a>,\n",
       "       <a href=\"/quotes/tag/optimism\">optimism</a>,\n",
       "       <a href=\"/quotes/tag/sadness\">sadness</a>,\n",
       "       <a href=\"/quotes/tag/smile\">smile</a>,\n",
       "       <a href=\"/quotes/tag/smiling\">smiling</a>\n",
       "</div>\n",
       "<div class=\"right\">\n",
       "<a class=\"smallText\" href=\"/quotes/1173-don-t-cry-because-it-s-over-smile-because-it-happened\" title=\"View this quote\">193418 likes</a>\n",
       "</div>\n",
       "</div>\n",
       "</div>\n",
       "<div class=\"action\">\n",
       "<a class=\"gr-button gr-button--small\" href=\"/user/new\" rel=\"nofollow\">Like</a>\n",
       "</div>\n",
       "</div>"
      ]
     },
     "execution_count": 63,
     "metadata": {},
     "output_type": "execute_result"
    }
   ],
   "source": [
    "quote"
   ]
  },
  {
   "cell_type": "code",
   "execution_count": 48,
   "metadata": {},
   "outputs": [],
   "source": [
    "quoteText = quote.find_next(\"div\", {\"class\": \"quoteText\"})"
   ]
  },
  {
   "cell_type": "code",
   "execution_count": 55,
   "metadata": {},
   "outputs": [],
   "source": [
    "lines = quoteText.text.split(\"\\n\")"
   ]
  },
  {
   "cell_type": "code",
   "execution_count": 68,
   "metadata": {},
   "outputs": [
    {
     "data": {
      "text/plain": [
       "<div class=\"quoteText\">\n",
       "      “Don't cry because it's over, smile because it happened.”\n",
       "  <br/>  ―\n",
       "  <span class=\"authorOrTitle\">\n",
       "    Dr. Seuss\n",
       "  </span>\n",
       "</div>"
      ]
     },
     "execution_count": 68,
     "metadata": {},
     "output_type": "execute_result"
    }
   ],
   "source": [
    "quoteText"
   ]
  },
  {
   "cell_type": "code",
   "execution_count": 56,
   "metadata": {},
   "outputs": [
    {
     "data": {
      "text/plain": [
       "['',\n",
       " \"      “Don't cry because it's over, smile because it happened.”\",\n",
       " '    ―',\n",
       " '  ',\n",
       " '    Dr. Seuss',\n",
       " '  ',\n",
       " '']"
      ]
     },
     "execution_count": 56,
     "metadata": {},
     "output_type": "execute_result"
    }
   ],
   "source": [
    "lines"
   ]
  },
  {
   "cell_type": "code",
   "execution_count": 61,
   "metadata": {},
   "outputs": [],
   "source": [
    "quote_line = lines[1].strip()[1: -1]\n",
    "quote_auther = lines[-3].strip()"
   ]
  },
  {
   "cell_type": "code",
   "execution_count": 62,
   "metadata": {},
   "outputs": [
    {
     "name": "stdout",
     "output_type": "stream",
     "text": [
      "Don't cry because it's over, smile because it happened. Dr. Seuss\n"
     ]
    }
   ],
   "source": [
    "print(quote_line, quote_auther)"
   ]
  },
  {
   "cell_type": "code",
   "execution_count": 64,
   "metadata": {},
   "outputs": [],
   "source": [
    "links = quote.find_all(\"a\")"
   ]
  },
  {
   "cell_type": "code",
   "execution_count": 66,
   "metadata": {},
   "outputs": [],
   "source": [
    "tags = []\n",
    "for link in links:\n",
    "    if link.has_attr(\"href\"):\n",
    "        if link[\"href\"].startswith(\"/quotes/tag\"):\n",
    "            tags.append(link.text)\n",
    "    "
   ]
  },
  {
   "cell_type": "code",
   "execution_count": 67,
   "metadata": {},
   "outputs": [
    {
     "data": {
      "text/plain": [
       "['attributed-no-source',\n",
       " 'cry',\n",
       " 'crying',\n",
       " 'experience',\n",
       " 'happiness',\n",
       " 'joy',\n",
       " 'life',\n",
       " 'misattributed-dr-seuss',\n",
       " 'optimism',\n",
       " 'sadness',\n",
       " 'smile',\n",
       " 'smiling']"
      ]
     },
     "execution_count": 67,
     "metadata": {},
     "output_type": "execute_result"
    }
   ],
   "source": [
    "tags"
   ]
  },
  {
   "cell_type": "code",
   "execution_count": null,
   "metadata": {},
   "outputs": [],
   "source": []
  }
 ],
 "metadata": {
  "kernelspec": {
   "display_name": "Python 3",
   "language": "python",
   "name": "python3"
  },
  "language_info": {
   "codemirror_mode": {
    "name": "ipython",
    "version": 3
   },
   "file_extension": ".py",
   "mimetype": "text/x-python",
   "name": "python",
   "nbconvert_exporter": "python",
   "pygments_lexer": "ipython3",
   "version": "3.7.1"
  }
 },
 "nbformat": 4,
 "nbformat_minor": 4
}
